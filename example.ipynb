{
 "cells": [
  {
   "cell_type": "code",
   "execution_count": null,
   "metadata": {},
   "outputs": [],
   "source": [
    "import findspark\n",
    "findspark.init()\n",
    "\n",
    "from pyspark.sql import SparkSession\n",
    "\n",
    "import scheming"
   ]
  },
  {
   "cell_type": "code",
   "execution_count": null,
   "metadata": {},
   "outputs": [],
   "source": [
    "spark = SparkSession.builder.appName(\"scheming example\").getOrCreate()"
   ]
  },
  {
   "cell_type": "code",
   "execution_count": null,
   "metadata": {},
   "outputs": [],
   "source": [
    "data_name = \"example\"\n",
    "schema_filename = scheming.get_filename(data_name)\n",
    "csv_filename = f\"{data_name}.csv\"\n",
    "\n",
    "schema, inferSchema = scheming.load(schema_filename)\n",
    "\n",
    "df = spark.read.csv(csv_filename, header=True, schema=schema, inferSchema=inferSchema)\n",
    "if inferSchema:\n",
    "    scheming.save(schema_filename, df.schema)\n",
    "    print(f\"WARN: inferSchema=True on {csv_filename}\")\n",
    "\n",
    "df.show()\n",
    "df.printSchema()\n",
    "\n",
    "print(scheming.metadata(df.schema))\n"
   ]
  }
 ],
 "metadata": {
  "kernelspec": {
   "display_name": "Python 3",
   "language": "python",
   "name": "python3"
  },
  "language_info": {
   "codemirror_mode": {
    "name": "ipython",
    "version": 3
   },
   "file_extension": ".py",
   "mimetype": "text/x-python",
   "name": "python",
   "nbconvert_exporter": "python",
   "pygments_lexer": "ipython3",
   "version": "3.7.7"
  }
 },
 "nbformat": 4,
 "nbformat_minor": 4
}
